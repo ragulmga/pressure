{
  "nbformat": 4,
  "nbformat_minor": 0,
  "metadata": {
    "colab": {
      "name": "DbaaS.ipynb",
      "provenance": []
    },
    "kernelspec": {
      "name": "python3",
      "display_name": "Python 3"
    },
    "language_info": {
      "name": "python"
    }
  },
  "cells": [
    {
      "cell_type": "code",
      "source": [
        "import firebase_admin\n",
        "from firebase_admin import credentials, firestore"
      ],
      "metadata": {
        "id": "XXmIN7DYwPIv"
      },
      "execution_count": null,
      "outputs": []
    },
    {
      "cell_type": "code",
      "source": [
        "cred = credentials.Certificate(\"serviceAccountKey.json\")\n",
        "firebase_admin.initialize_app(cred)"
      ],
      "metadata": {
        "id": "KPurHzC4CW9-",
        "colab": {
          "base_uri": "https://localhost:8080/"
        },
        "outputId": "a452a94a-9d8f-4ac1-d4ce-3535607af1cb"
      },
      "execution_count": null,
      "outputs": [
        {
          "output_type": "execute_result",
          "data": {
            "text/plain": [
              "<firebase_admin.App at 0x7f247abe6890>"
            ]
          },
          "metadata": {},
          "execution_count": 2
        }
      ]
    },
    {
      "cell_type": "code",
      "source": [
        "db = firestore.client()\n",
        "collection = db.collection('places')\n",
        "doc = collection.document('rome')"
      ],
      "metadata": {
        "id": "kRYFmKuDDkEe"
      },
      "execution_count": null,
      "outputs": []
    },
    {
      "cell_type": "code",
      "source": [
        "res = collection.document('barcelona').set({\n",
        "    'lat': 41.3851, 'long': 2.1734,\n",
        "    'weather': 'great',\n",
        "    'landmarks': [\n",
        "        'guadí park',\n",
        "        'gaudí church',\n",
        "        'gaudí everything'\n",
        "    ]\n",
        "})\n",
        "print(res)"
      ],
      "metadata": {
        "colab": {
          "base_uri": "https://localhost:8080/"
        },
        "id": "Lguj89aMEVrr",
        "outputId": "d0ee8f89-5767-4885-bd84-0e1b629fa88a"
      },
      "execution_count": null,
      "outputs": [
        {
          "output_type": "stream",
          "name": "stdout",
          "text": [
            "update_time {\n",
            "  seconds: 1655223302\n",
            "  nanos: 295726000\n",
            "}\n",
            "\n"
          ]
        }
      ]
    },
    {
      "cell_type": "code",
      "source": [
        "res = collection.document('barcelona').update({\n",
        "    'weather': 'sun'\n",
        "})"
      ],
      "metadata": {
        "id": "unBhgpQXEia9"
      },
      "execution_count": null,
      "outputs": []
    },
    {
      "cell_type": "code",
      "source": [
        "collection.document('rome').delete()"
      ],
      "metadata": {
        "colab": {
          "base_uri": "https://localhost:8080/"
        },
        "id": "uXPuWAVvExOz",
        "outputId": "09c58de9-5c34-46ec-fee3-3ca7b471d037"
      },
      "execution_count": null,
      "outputs": [
        {
          "output_type": "execute_result",
          "data": {
            "text/plain": [
              "seconds: 1650476676\n",
              "nanos: 396530000"
            ]
          },
          "metadata": {},
          "execution_count": 7
        }
      ]
    },
    {
      "cell_type": "code",
      "source": [
        "collection.document('barcelona').update({\n",
        "    'weather': firestore.DELETE_FIELD})"
      ],
      "metadata": {
        "colab": {
          "base_uri": "https://localhost:8080/"
        },
        "id": "W1WN0j1EE941",
        "outputId": "779b84a8-0739-4f84-801d-e7469b10d7ef"
      },
      "execution_count": null,
      "outputs": [
        {
          "output_type": "execute_result",
          "data": {
            "text/plain": [
              "update_time {\n",
              "  seconds: 1655223437\n",
              "  nanos: 51934000\n",
              "}"
            ]
          },
          "metadata": {},
          "execution_count": 6
        }
      ]
    },
    {
      "cell_type": "code",
      "source": [
        "doc = collection.document('barcelona')\n",
        "res = doc.get().to_dict()\n",
        "print(res)"
      ],
      "metadata": {
        "id": "HT7JWhkcFVr0",
        "outputId": "67b22c62-402d-4946-859d-6c7d4813eaa9",
        "colab": {
          "base_uri": "https://localhost:8080/"
        }
      },
      "execution_count": null,
      "outputs": [
        {
          "output_type": "stream",
          "name": "stdout",
          "text": [
            "{'landmarks': ['guadí park', 'gaudí church', 'gaudí everything'], 'lat': 41.3851, 'long': 2.1734}\n"
          ]
        }
      ]
    }
  ]
}